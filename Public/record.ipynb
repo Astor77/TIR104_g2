{
 "cells": [
  {
   "cell_type": "markdown",
   "metadata": {},
   "source": [
    "- everyone's path\n",
    "    - Astor: /Users/astorli/TIR104_g2\n",
    "    - Victor:\n",
    "    - Joy:\n",
    "    - Rain:\n",
    "    - Allen:"
   ]
  },
  {
   "cell_type": "markdown",
   "metadata": {},
   "source": []
  },
  {
   "cell_type": "markdown",
   "metadata": {},
   "source": [
    "- to open this container：\n",
    "1. `CTRL+SHIFT+P` open the terminal enter `> rebuild`"
   ]
  },
  {
   "cell_type": "markdown",
   "metadata": {},
   "source": [
    "- comment：\n",
    "1. You can find the name of container in this path: `.devcontainer/devcontainer.json`\n",
    "2. `--name \"container-g2-project\"`"
   ]
  }
 ],
 "metadata": {
  "kernelspec": {
   "display_name": "Python 3",
   "language": "python",
   "name": "python3"
  },
  "language_info": {
   "codemirror_mode": {
    "name": "ipython",
    "version": 3
   },
   "file_extension": ".py",
   "mimetype": "text/x-python",
   "name": "python",
   "nbconvert_exporter": "python",
   "pygments_lexer": "ipython3",
   "version": "3.12.8"
  }
 },
 "nbformat": 4,
 "nbformat_minor": 2
}
