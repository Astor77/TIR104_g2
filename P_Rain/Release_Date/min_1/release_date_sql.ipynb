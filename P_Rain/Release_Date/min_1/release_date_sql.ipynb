{
 "cells": [
  {
   "cell_type": "code",
   "execution_count": 1,
   "metadata": {},
   "outputs": [
    {
     "name": "stdout",
     "output_type": "stream",
     "text": [
      "Successfully connected!\n",
      "Successfully deleted!\n",
      "Successfully inserted!\n"
     ]
    }
   ],
   "source": [
    "import pymysql\n",
    "import pandas as pd\n",
    "\n",
    "host = 'host.docker.internal'\n",
    "port = 3306\n",
    "user = 'root'\n",
    "passwd = 'password'\n",
    "db = 'movie'\n",
    "charset = 'utf8mb4'\n",
    "\n",
    "conn = pymysql.connect(host=host, port=port, user=user, passwd=passwd, db=db, charset=charset)\n",
    "print('Successfully connected!')\n",
    "\n",
    "cursor = conn.cursor()\n",
    "\n",
    "# DELETE ALL\n",
    "sql = \"\"\"\n",
    "DELETE FROM `movie_release`;\n",
    "\"\"\"\n",
    "cursor.execute(sql)\n",
    "conn.commit()\n",
    "print('Successfully deleted!')\n",
    "\n",
    "# 讀取 CSV 檔案\n",
    "file_path = \"release_dates.csv\" # 正確檔案路徑\n",
    "df = pd.read_csv(file_path)\n",
    "\n",
    "# 轉換 release_date 格式\n",
    "df['release_date'] = pd.to_datetime(df['release_date']).dt.date\n",
    "\n",
    "table_name = \"movie_release\"\n",
    "\n",
    "# 生成 SQL INSERT 語句並執行\n",
    "for index, row in df.iterrows():\n",
    "    sql = f\"\"\"\n",
    "    INSERT INTO `{table_name}` (`tmdb_id`, `country`, `movie_release_date`, `movie_type`)\n",
    "    VALUES ({row['tmdb_id']}, '{row['country']}', '{row['release_date']}', {row['type']});\n",
    "    \"\"\"\n",
    "    cursor.execute(sql)\n",
    "\n",
    "# 提交變更\n",
    "conn.commit()\n",
    "print('Successfully inserted!')\n",
    "\n",
    "cursor.close()\n",
    "conn.close()\n"
   ]
  },
  {
   "cell_type": "code",
   "execution_count": null,
   "metadata": {},
   "outputs": [],
   "source": []
  }
 ],
 "metadata": {
  "kernelspec": {
   "display_name": "Python 3",
   "language": "python",
   "name": "python3"
  },
  "language_info": {
   "codemirror_mode": {
    "name": "ipython",
    "version": 3
   },
   "file_extension": ".py",
   "mimetype": "text/x-python",
   "name": "python",
   "nbconvert_exporter": "python",
   "pygments_lexer": "ipython3",
   "version": "3.12.8"
  }
 },
 "nbformat": 4,
 "nbformat_minor": 2
}
