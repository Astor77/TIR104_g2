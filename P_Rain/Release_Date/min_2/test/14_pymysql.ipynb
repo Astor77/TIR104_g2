{
 "cells": [
  {
   "cell_type": "code",
   "execution_count": 20,
   "metadata": {},
   "outputs": [
    {
     "name": "stdout",
     "output_type": "stream",
     "text": [
      "Successfully connected!\n"
     ]
    }
   ],
   "source": [
    "# 連接資料庫\n",
    "import pymysql\n",
    "\n",
    "host = 'host.docker.internal'\n",
    "port = 3306\n",
    "user = 'root'\n",
    "passwd = 'password'\n",
    "db = 'testdb'\n",
    "charset = 'utf8mb4'\n",
    "\n",
    "conn = pymysql.connect(host=host, port=port, user=user, passwd=passwd, db=db, charset=charset)\n",
    "print('Successfully connected!')\n",
    "\n",
    "cursor = conn.cursor()"
   ]
  },
  {
   "cell_type": "code",
   "execution_count": 22,
   "metadata": {},
   "outputs": [
    {
     "data": {
      "text/plain": [
       "1"
      ]
     },
     "execution_count": 22,
     "metadata": {},
     "output_type": "execute_result"
    }
   ],
   "source": [
    "# 試著 INSERT 一筆資料\n",
    "# 注意 TABLE 欄位的資料型態\n",
    "\n",
    "# 先寫好 SQL 語法\n",
    "sql = \"\"\"\n",
    "INSERT INTO test_staff_2 (ID, Name, DeptId, Age, Gender, Salary, recordDt)\n",
    "VALUES ('001', 'Mike', '002', 45, 'M', 60000, '2020-04-24 14:59:57');\n",
    "\"\"\"\n",
    "\n",
    "# 將指令放進 cursor 物件，並執行\n",
    "cursor.execute(sql)"
   ]
  },
  {
   "cell_type": "code",
   "execution_count": 23,
   "metadata": {},
   "outputs": [],
   "source": [
    "conn.commit()"
   ]
  },
  {
   "cell_type": "code",
   "execution_count": 24,
   "metadata": {},
   "outputs": [],
   "source": [
    "sql = \"\"\"\n",
    "delete from test_staff_2\n",
    "\"\"\"\n",
    "cursor.execute(sql)\n",
    "conn.commit()"
   ]
  },
  {
   "cell_type": "code",
   "execution_count": 26,
   "metadata": {},
   "outputs": [
    {
     "data": {
      "text/plain": [
       "8"
      ]
     },
     "execution_count": 26,
     "metadata": {},
     "output_type": "execute_result"
    }
   ],
   "source": [
    "data =[('001', 'Mike', '002', '45', 'M', '60000', '2020-10-13 21:41:49'),\n",
    " ('002', 'Judy', '002', '30', 'F', '48000', '2020-10-13 21:41:49'),\n",
    " ('003', 'Allen', '001', '22', 'M', '50000', '2020-10-13 21:41:49'),\n",
    " ('004', 'Tom', '002', '47', 'M', '47000', '2020-10-13 21:41:49'),\n",
    " ('005', 'Jack', '003', '36', 'M', '52000', '2020-10-13 21:41:49'),\n",
    " ('006', 'Abby', '002', '24', 'F', '45000', '2020-10-13 21:41:49'),\n",
    " ('007', 'Trump', '001', '80', 'M', '80000', '2020-10-13 21:41:49'),\n",
    " ('008', 'Marry', '003', '29', 'F', '87000', '2020-10-13 21:41:49')]\n",
    "\n",
    "sql_insert = \"\"\"\n",
    "INSERT INTO test_staff_2 (ID, Name, DeptId, Age, Gender, Salary, recordDt)\n",
    "VALUES (%s, %s, %s, %s, %s, %s, %s);\n",
    "\"\"\"\n",
    "#上面%s那些是模板 像是後迴圈 把資料放進去\n",
    "\n",
    "cursor.executemany(sql_insert, data)"
   ]
  },
  {
   "cell_type": "code",
   "execution_count": 27,
   "metadata": {},
   "outputs": [],
   "source": [
    "conn.commit()"
   ]
  },
  {
   "cell_type": "code",
   "execution_count": 29,
   "metadata": {},
   "outputs": [
    {
     "data": {
      "text/plain": [
       "8"
      ]
     },
     "execution_count": 29,
     "metadata": {},
     "output_type": "execute_result"
    }
   ],
   "source": [
    "sql =\"select * from test_staff_2\"\n",
    "\n",
    "cursor.execute(sql)"
   ]
  },
  {
   "cell_type": "code",
   "execution_count": 30,
   "metadata": {},
   "outputs": [
    {
     "data": {
      "text/plain": [
       "(('001', 'Mike', '002', 45, 'M', 60000, '2020-10-13 21:41:49'),\n",
       " ('002', 'Judy', '002', 30, 'F', 48000, '2020-10-13 21:41:49'),\n",
       " ('003', 'Allen', '001', 22, 'M', 50000, '2020-10-13 21:41:49'),\n",
       " ('004', 'Tom', '002', 47, 'M', 47000, '2020-10-13 21:41:49'),\n",
       " ('005', 'Jack', '003', 36, 'M', 52000, '2020-10-13 21:41:49'),\n",
       " ('006', 'Abby', '002', 24, 'F', 45000, '2020-10-13 21:41:49'),\n",
       " ('007', 'Trump', '001', 80, 'M', 80000, '2020-10-13 21:41:49'),\n",
       " ('008', 'Marry', '003', 29, 'F', 87000, '2020-10-13 21:41:49'))"
      ]
     },
     "execution_count": 30,
     "metadata": {},
     "output_type": "execute_result"
    }
   ],
   "source": [
    "cursor.fetchall()"
   ]
  },
  {
   "cell_type": "code",
   "execution_count": 31,
   "metadata": {},
   "outputs": [
    {
     "data": {
      "text/plain": [
       "()"
      ]
     },
     "execution_count": 31,
     "metadata": {},
     "output_type": "execute_result"
    }
   ],
   "source": [
    "cursor.fetchall()"
   ]
  },
  {
   "cell_type": "code",
   "execution_count": 32,
   "metadata": {},
   "outputs": [
    {
     "data": {
      "text/plain": [
       "8"
      ]
     },
     "execution_count": 32,
     "metadata": {},
     "output_type": "execute_result"
    }
   ],
   "source": [
    "sql =\"select * from test_staff_2\"\n",
    "\n",
    "cursor.execute(sql)"
   ]
  },
  {
   "cell_type": "code",
   "execution_count": 33,
   "metadata": {},
   "outputs": [],
   "source": [
    "output =cursor.fetchall()"
   ]
  },
  {
   "cell_type": "code",
   "execution_count": 34,
   "metadata": {},
   "outputs": [
    {
     "data": {
      "text/plain": [
       "(('001', 'Mike', '002', 45, 'M', 60000, '2020-10-13 21:41:49'),\n",
       " ('002', 'Judy', '002', 30, 'F', 48000, '2020-10-13 21:41:49'),\n",
       " ('003', 'Allen', '001', 22, 'M', 50000, '2020-10-13 21:41:49'),\n",
       " ('004', 'Tom', '002', 47, 'M', 47000, '2020-10-13 21:41:49'),\n",
       " ('005', 'Jack', '003', 36, 'M', 52000, '2020-10-13 21:41:49'),\n",
       " ('006', 'Abby', '002', 24, 'F', 45000, '2020-10-13 21:41:49'),\n",
       " ('007', 'Trump', '001', 80, 'M', 80000, '2020-10-13 21:41:49'),\n",
       " ('008', 'Marry', '003', 29, 'F', 87000, '2020-10-13 21:41:49'))"
      ]
     },
     "execution_count": 34,
     "metadata": {},
     "output_type": "execute_result"
    }
   ],
   "source": [
    "output"
   ]
  },
  {
   "cell_type": "code",
   "execution_count": 35,
   "metadata": {},
   "outputs": [
    {
     "data": {
      "text/plain": [
       "(('001', 'Mike', '002', 45, 'M', 60000, '2020-10-13 21:41:49'),\n",
       " ('002', 'Judy', '002', 30, 'F', 48000, '2020-10-13 21:41:49'),\n",
       " ('003', 'Allen', '001', 22, 'M', 50000, '2020-10-13 21:41:49'),\n",
       " ('004', 'Tom', '002', 47, 'M', 47000, '2020-10-13 21:41:49'),\n",
       " ('005', 'Jack', '003', 36, 'M', 52000, '2020-10-13 21:41:49'),\n",
       " ('006', 'Abby', '002', 24, 'F', 45000, '2020-10-13 21:41:49'),\n",
       " ('007', 'Trump', '001', 80, 'M', 80000, '2020-10-13 21:41:49'),\n",
       " ('008', 'Marry', '003', 29, 'F', 87000, '2020-10-13 21:41:49'))"
      ]
     },
     "execution_count": 35,
     "metadata": {},
     "output_type": "execute_result"
    }
   ],
   "source": [
    "output"
   ]
  },
  {
   "cell_type": "code",
   "execution_count": 36,
   "metadata": {},
   "outputs": [],
   "source": [
    "cursor.close()\n",
    "conn.close()"
   ]
  },
  {
   "cell_type": "code",
   "execution_count": null,
   "metadata": {},
   "outputs": [],
   "source": []
  }
 ],
 "metadata": {
  "kernelspec": {
   "display_name": "Python 3",
   "language": "python",
   "name": "python3"
  },
  "language_info": {
   "codemirror_mode": {
    "name": "ipython",
    "version": 3
   },
   "file_extension": ".py",
   "mimetype": "text/x-python",
   "name": "python",
   "nbconvert_exporter": "python",
   "pygments_lexer": "ipython3",
   "version": "3.12.8"
  }
 },
 "nbformat": 4,
 "nbformat_minor": 2
}
