{
 "cells": [
  {
   "cell_type": "code",
   "execution_count": 5,
   "metadata": {},
   "outputs": [],
   "source": [
    "import os\n",
    "import requests\n",
    "import pandas as pd\n",
    "import json\n",
    "import time\n",
    "\n",
    "import module_api_raw_data as ma\n",
    "import module_read_file as mr\n",
    "import module_save_file as ms"
   ]
  },
  {
   "cell_type": "code",
   "execution_count": 6,
   "metadata": {},
   "outputs": [],
   "source": [
    "# task_1 extract\n",
    "# 讀取mapping 結果並取出tmdb_id_list\n",
    "file_path = \"/workspaces/TIR104_g2/A0_raw_data/tw/tw_mapping_tmdb/v2_mapping_close_true.csv\"\n",
    "df = mr.read_file_to_df(file_path)\n",
    "tmdb_id_list = df[\"id\"]"
   ]
  },
  {
   "cell_type": "code",
   "execution_count": 7,
   "metadata": {},
   "outputs": [],
   "source": [
    "# task_2 extract\n",
    "# 針對tmdb_id_list，抓取detail資訊並存入list\n",
    "movie_details = ma.tmdb_get_list_movie_detail(tmdb_id_list)"
   ]
  },
  {
   "cell_type": "code",
   "execution_count": 8,
   "metadata": {},
   "outputs": [
    {
     "name": "stdout",
     "output_type": "stream",
     "text": [
      "tmdb_detail_raw.json 儲存成功, 存放路徑: /workspaces/TIR104_g2/A0_raw_data/tw/tmdb_details/tmdb_detail_raw.json\n",
      "tmdb_detail_raw.csv 儲存失敗。error: 'list' object has no attribute 'to_csv'\n"
     ]
    }
   ],
   "source": [
    "# task_3 load\n",
    "# 將json, csv結果存入路徑\n",
    "dir_path = \"/workspaces/TIR104_g2/A0_raw_data/tw/tmdb_details\"\n",
    "ms.save_as_json(movie_details, \"tmdb_detail_raw.json\", dir_path)\n",
    "ms.save_as_csv(movie_details, \"tmdb_detail_raw.csv\", dir_path)"
   ]
  }
 ],
 "metadata": {
  "kernelspec": {
   "display_name": "Python 3",
   "language": "python",
   "name": "python3"
  },
  "language_info": {
   "codemirror_mode": {
    "name": "ipython",
    "version": 3
   },
   "file_extension": ".py",
   "mimetype": "text/x-python",
   "name": "python",
   "nbconvert_exporter": "python",
   "pygments_lexer": "ipython3",
   "version": "3.12.8"
  }
 },
 "nbformat": 4,
 "nbformat_minor": 2
}
